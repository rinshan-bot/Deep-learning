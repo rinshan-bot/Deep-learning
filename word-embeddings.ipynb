{
 "cells": [
  {
   "cell_type": "code",
   "execution_count": 1,
   "id": "685d2693",
   "metadata": {
    "_cell_guid": "b1076dfc-b9ad-4769-8c92-a6c4dae69d19",
    "_uuid": "8f2839f25d086af736a60e9eeb907d3b93b6e0e5",
    "execution": {
     "iopub.execute_input": "2024-11-28T00:57:10.779385Z",
     "iopub.status.busy": "2024-11-28T00:57:10.778861Z",
     "iopub.status.idle": "2024-11-28T00:57:11.764544Z",
     "shell.execute_reply": "2024-11-28T00:57:11.763139Z"
    },
    "papermill": {
     "duration": 0.993363,
     "end_time": "2024-11-28T00:57:11.767013",
     "exception": false,
     "start_time": "2024-11-28T00:57:10.773650",
     "status": "completed"
    },
    "tags": []
   },
   "outputs": [
    {
     "name": "stdout",
     "output_type": "stream",
     "text": [
      "/kaggle/input/sentiment140/training.1600000.processed.noemoticon.csv\n"
     ]
    }
   ],
   "source": [
    "# This Python 3 environment comes with many helpful analytics libraries installed\n",
    "# It is defined by the kaggle/python Docker image: https://github.com/kaggle/docker-python\n",
    "# For example, here's several helpful packages to load\n",
    "\n",
    "import numpy as np # linear algebra\n",
    "import pandas as pd # data processing, CSV file I/O (e.g. pd.read_csv)\n",
    "\n",
    "# Input data files are available in the read-only \"../input/\" directory\n",
    "# For example, running this (by clicking run or pressing Shift+Enter) will list all files under the input directory\n",
    "\n",
    "import os\n",
    "for dirname, _, filenames in os.walk('/kaggle/input'):\n",
    "    for filename in filenames:\n",
    "        print(os.path.join(dirname, filename))\n",
    "\n",
    "# You can write up to 20GB to the current directory (/kaggle/working/) that gets preserved as output when you create a version using \"Save & Run All\" \n",
    "# You can also write temporary files to /kaggle/temp/, but they won't be saved outside of the current session"
   ]
  },
  {
   "cell_type": "code",
   "execution_count": 2,
   "id": "89861958",
   "metadata": {
    "execution": {
     "iopub.execute_input": "2024-11-28T00:57:11.776097Z",
     "iopub.status.busy": "2024-11-28T00:57:11.774616Z",
     "iopub.status.idle": "2024-11-28T00:57:13.297094Z",
     "shell.execute_reply": "2024-11-28T00:57:13.295675Z"
    },
    "papermill": {
     "duration": 1.529374,
     "end_time": "2024-11-28T00:57:13.299690",
     "exception": false,
     "start_time": "2024-11-28T00:57:11.770316",
     "status": "completed"
    },
    "tags": []
   },
   "outputs": [],
   "source": [
    "from mpl_toolkits.mplot3d import Axes3D\n",
    "from sklearn.preprocessing import StandardScaler\n",
    "import matplotlib.pyplot as plt # plotting\n",
    "import numpy as np # linear algebra\n",
    "import os # accessing directory structure\n",
    "import pandas as pd # data processing, CSV file I/O (e.g. pd.read_csv)\n",
    "import re"
   ]
  },
  {
   "cell_type": "code",
   "execution_count": 3,
   "id": "b5ed9b81",
   "metadata": {
    "execution": {
     "iopub.execute_input": "2024-11-28T00:57:13.307496Z",
     "iopub.status.busy": "2024-11-28T00:57:13.306943Z",
     "iopub.status.idle": "2024-11-28T00:57:13.345734Z",
     "shell.execute_reply": "2024-11-28T00:57:13.344219Z"
    },
    "papermill": {
     "duration": 0.04574,
     "end_time": "2024-11-28T00:57:13.348419",
     "exception": false,
     "start_time": "2024-11-28T00:57:13.302679",
     "status": "completed"
    },
    "tags": []
   },
   "outputs": [
    {
     "name": "stdout",
     "output_type": "stream",
     "text": [
      "There are 1000 rows and 6 columns\n",
      "Index(['0', '1467810369', 'Mon Apr 06 22:19:45 PDT 2009', 'NO_QUERY',\n",
      "       '_TheSpecialOne_',\n",
      "       '@switchfoot http://twitpic.com/2y1zl - Awww, that's a bummer.  You shoulda got David Carr of Third Day to do it. ;D'],\n",
      "      dtype='object')\n"
     ]
    }
   ],
   "source": [
    "nRowsRead = 1000 # specify 'None' if want to read whole file\n",
    "# training.1600000.processed.noemoticon.csv may have more rows in reality, but we are only loading/previewing the first 1000 rows\n",
    "df1 = pd.read_csv('/kaggle/input/sentiment140/training.1600000.processed.noemoticon.csv', delimiter=',', nrows = nRowsRead)\n",
    "df1.dataframeName = 'training.1600000.processed.noemoticon.csv'\n",
    "\n",
    "\n",
    "nRow, nCol = df1.shape\n",
    "print(f'There are {nRow} rows and {nCol} columns')\n",
    "print(df1.columns)\n",
    "df2 = df1\n",
    "new_headers = ['a', 'b', 'c','d','e','f']\n",
    "df2.columns = new_headers"
   ]
  },
  {
   "cell_type": "code",
   "execution_count": 4,
   "id": "49cab62b",
   "metadata": {
    "execution": {
     "iopub.execute_input": "2024-11-28T00:57:13.356621Z",
     "iopub.status.busy": "2024-11-28T00:57:13.356227Z",
     "iopub.status.idle": "2024-11-28T00:57:13.373269Z",
     "shell.execute_reply": "2024-11-28T00:57:13.371975Z"
    },
    "papermill": {
     "duration": 0.024158,
     "end_time": "2024-11-28T00:57:13.375807",
     "exception": false,
     "start_time": "2024-11-28T00:57:13.351649",
     "status": "completed"
    },
    "tags": []
   },
   "outputs": [
    {
     "data": {
      "text/html": [
       "<div>\n",
       "<style scoped>\n",
       "    .dataframe tbody tr th:only-of-type {\n",
       "        vertical-align: middle;\n",
       "    }\n",
       "\n",
       "    .dataframe tbody tr th {\n",
       "        vertical-align: top;\n",
       "    }\n",
       "\n",
       "    .dataframe thead th {\n",
       "        text-align: right;\n",
       "    }\n",
       "</style>\n",
       "<table border=\"1\" class=\"dataframe\">\n",
       "  <thead>\n",
       "    <tr style=\"text-align: right;\">\n",
       "      <th></th>\n",
       "      <th>a</th>\n",
       "      <th>b</th>\n",
       "      <th>c</th>\n",
       "      <th>d</th>\n",
       "      <th>e</th>\n",
       "      <th>f</th>\n",
       "    </tr>\n",
       "  </thead>\n",
       "  <tbody>\n",
       "    <tr>\n",
       "      <th>0</th>\n",
       "      <td>0</td>\n",
       "      <td>1467810672</td>\n",
       "      <td>Mon Apr 06 22:19:49 PDT 2009</td>\n",
       "      <td>NO_QUERY</td>\n",
       "      <td>scotthamilton</td>\n",
       "      <td>is upset that he can't update his Facebook by ...</td>\n",
       "    </tr>\n",
       "  </tbody>\n",
       "</table>\n",
       "</div>"
      ],
      "text/plain": [
       "   a           b                             c         d              e  \\\n",
       "0  0  1467810672  Mon Apr 06 22:19:49 PDT 2009  NO_QUERY  scotthamilton   \n",
       "\n",
       "                                                   f  \n",
       "0  is upset that he can't update his Facebook by ...  "
      ]
     },
     "execution_count": 4,
     "metadata": {},
     "output_type": "execute_result"
    }
   ],
   "source": [
    "df2.head(1)"
   ]
  },
  {
   "cell_type": "code",
   "execution_count": 5,
   "id": "5dc5189b",
   "metadata": {
    "execution": {
     "iopub.execute_input": "2024-11-28T00:57:13.384519Z",
     "iopub.status.busy": "2024-11-28T00:57:13.384143Z",
     "iopub.status.idle": "2024-11-28T00:57:13.390045Z",
     "shell.execute_reply": "2024-11-28T00:57:13.388773Z"
    },
    "papermill": {
     "duration": 0.013269,
     "end_time": "2024-11-28T00:57:13.392939",
     "exception": false,
     "start_time": "2024-11-28T00:57:13.379670",
     "status": "completed"
    },
    "tags": []
   },
   "outputs": [],
   "source": [
    "tweets = df1['f'].tolist()"
   ]
  },
  {
   "cell_type": "code",
   "execution_count": 6,
   "id": "f5bdcab0",
   "metadata": {
    "execution": {
     "iopub.execute_input": "2024-11-28T00:57:13.401190Z",
     "iopub.status.busy": "2024-11-28T00:57:13.400775Z",
     "iopub.status.idle": "2024-11-28T00:57:13.416908Z",
     "shell.execute_reply": "2024-11-28T00:57:13.415760Z"
    },
    "papermill": {
     "duration": 0.023352,
     "end_time": "2024-11-28T00:57:13.419544",
     "exception": false,
     "start_time": "2024-11-28T00:57:13.396192",
     "status": "completed"
    },
    "tags": []
   },
   "outputs": [],
   "source": [
    "corpus = []\n",
    "for tweet in tweets:\n",
    "    tweet = re.sub(\"[^a-zA-Z]\", \" \", tweet)  # Keep only alphabets\n",
    "    tweet = tweet.lower()  # Convert to lowercase\n",
    "    tweet = tweet.split()  # Split tweet into words\n",
    "    corpus.append(tweet)  # Append the processed tweet"
   ]
  },
  {
   "cell_type": "code",
   "execution_count": 7,
   "id": "a6e995e4",
   "metadata": {
    "execution": {
     "iopub.execute_input": "2024-11-28T00:57:13.428160Z",
     "iopub.status.busy": "2024-11-28T00:57:13.427735Z",
     "iopub.status.idle": "2024-11-28T00:57:25.848921Z",
     "shell.execute_reply": "2024-11-28T00:57:25.847805Z"
    },
    "papermill": {
     "duration": 12.428437,
     "end_time": "2024-11-28T00:57:25.851512",
     "exception": false,
     "start_time": "2024-11-28T00:57:13.423075",
     "status": "completed"
    },
    "tags": []
   },
   "outputs": [],
   "source": [
    "from gensim.models import Word2Vec\n",
    "import nltk\n",
    "from nltk.corpus import stopwords\n",
    "model = Word2Vec(corpus, vector_size=100, window=5, min_count=1, workers=4)"
   ]
  },
  {
   "cell_type": "code",
   "execution_count": 8,
   "id": "6706fe7c",
   "metadata": {
    "execution": {
     "iopub.execute_input": "2024-11-28T00:57:25.859967Z",
     "iopub.status.busy": "2024-11-28T00:57:25.859118Z",
     "iopub.status.idle": "2024-11-28T00:57:25.874541Z",
     "shell.execute_reply": "2024-11-28T00:57:25.872215Z"
    },
    "papermill": {
     "duration": 0.024219,
     "end_time": "2024-11-28T00:57:25.878930",
     "exception": false,
     "start_time": "2024-11-28T00:57:25.854711",
     "status": "completed"
    },
    "tags": []
   },
   "outputs": [
    {
     "name": "stdout",
     "output_type": "stream",
     "text": [
      "i: 0.9991605281829834\n",
      "it: 0.9988425970077515\n",
      "is: 0.9988213777542114\n",
      "for: 0.9988190531730652\n",
      "the: 0.9987992644309998\n",
      "my: 0.9987792372703552\n",
      "in: 0.9987581968307495\n",
      "to: 0.9987228512763977\n",
      "and: 0.9987221360206604\n",
      "t: 0.9985768795013428\n"
     ]
    }
   ],
   "source": [
    "try:\n",
    "  similar_words = model.wv.most_similar('you', topn=10)\n",
    "  for word, score in similar_words:\n",
    "    print(f\"{word}: {score}\")\n",
    "except KeyError:\n",
    "  print(\"Word not found in the vocabulary.\")"
   ]
  },
  {
   "cell_type": "code",
   "execution_count": null,
   "id": "3f03e27f",
   "metadata": {
    "papermill": {
     "duration": 0.0078,
     "end_time": "2024-11-28T00:57:25.895359",
     "exception": false,
     "start_time": "2024-11-28T00:57:25.887559",
     "status": "completed"
    },
    "tags": []
   },
   "outputs": [],
   "source": []
  }
 ],
 "metadata": {
  "kaggle": {
   "accelerator": "none",
   "dataSources": [
    {
     "datasetId": 2477,
     "sourceId": 4140,
     "sourceType": "datasetVersion"
    }
   ],
   "dockerImageVersionId": 30786,
   "isGpuEnabled": false,
   "isInternetEnabled": true,
   "language": "python",
   "sourceType": "notebook"
  },
  "kernelspec": {
   "display_name": "Python 3",
   "language": "python",
   "name": "python3"
  },
  "language_info": {
   "codemirror_mode": {
    "name": "ipython",
    "version": 3
   },
   "file_extension": ".py",
   "mimetype": "text/x-python",
   "name": "python",
   "nbconvert_exporter": "python",
   "pygments_lexer": "ipython3",
   "version": "3.10.14"
  },
  "papermill": {
   "default_parameters": {},
   "duration": 19.652937,
   "end_time": "2024-11-28T00:57:27.031958",
   "environment_variables": {},
   "exception": null,
   "input_path": "__notebook__.ipynb",
   "output_path": "__notebook__.ipynb",
   "parameters": {},
   "start_time": "2024-11-28T00:57:07.379021",
   "version": "2.6.0"
  }
 },
 "nbformat": 4,
 "nbformat_minor": 5
}
