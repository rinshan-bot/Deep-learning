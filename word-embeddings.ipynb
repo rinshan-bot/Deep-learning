{
 "cells": [
  {
   "cell_type": "code",
   "execution_count": 1,
   "id": "cbde7f1e",
   "metadata": {
    "_cell_guid": "b1076dfc-b9ad-4769-8c92-a6c4dae69d19",
    "_uuid": "8f2839f25d086af736a60e9eeb907d3b93b6e0e5",
    "execution": {
     "iopub.execute_input": "2024-11-28T01:11:42.982363Z",
     "iopub.status.busy": "2024-11-28T01:11:42.981856Z",
     "iopub.status.idle": "2024-11-28T01:11:43.912416Z",
     "shell.execute_reply": "2024-11-28T01:11:43.911222Z"
    },
    "papermill": {
     "duration": 0.938916,
     "end_time": "2024-11-28T01:11:43.915426",
     "exception": false,
     "start_time": "2024-11-28T01:11:42.976510",
     "status": "completed"
    },
    "tags": []
   },
   "outputs": [
    {
     "name": "stdout",
     "output_type": "stream",
     "text": [
      "/kaggle/input/sentiment140/training.1600000.processed.noemoticon.csv\n"
     ]
    }
   ],
   "source": [
    "# This Python 3 environment comes with many helpful analytics libraries installed\n",
    "# It is defined by the kaggle/python Docker image: https://github.com/kaggle/docker-python\n",
    "# For example, here's several helpful packages to load\n",
    "\n",
    "import numpy as np # linear algebra\n",
    "import pandas as pd # data processing, CSV file I/O (e.g. pd.read_csv)\n",
    "\n",
    "# Input data files are available in the read-only \"../input/\" directory\n",
    "# For example, running this (by clicking run or pressing Shift+Enter) will list all files under the input directory\n",
    "\n",
    "import os\n",
    "for dirname, _, filenames in os.walk('/kaggle/input'):\n",
    "    for filename in filenames:\n",
    "        print(os.path.join(dirname, filename))\n",
    "\n",
    "# You can write up to 20GB to the current directory (/kaggle/working/) that gets preserved as output when you create a version using \"Save & Run All\" \n",
    "# You can also write temporary files to /kaggle/temp/, but they won't be saved outside of the current session"
   ]
  },
  {
   "cell_type": "code",
   "execution_count": 2,
   "id": "c6447ab0",
   "metadata": {
    "execution": {
     "iopub.execute_input": "2024-11-28T01:11:43.926302Z",
     "iopub.status.busy": "2024-11-28T01:11:43.925707Z",
     "iopub.status.idle": "2024-11-28T01:11:45.267894Z",
     "shell.execute_reply": "2024-11-28T01:11:45.266651Z"
    },
    "papermill": {
     "duration": 1.34993,
     "end_time": "2024-11-28T01:11:45.270371",
     "exception": false,
     "start_time": "2024-11-28T01:11:43.920441",
     "status": "completed"
    },
    "tags": []
   },
   "outputs": [],
   "source": [
    "from mpl_toolkits.mplot3d import Axes3D\n",
    "from sklearn.preprocessing import StandardScaler\n",
    "import matplotlib.pyplot as plt # plotting\n",
    "import numpy as np # linear algebra\n",
    "import os # accessing directory structure\n",
    "import pandas as pd # data processing, CSV file I/O (e.g. pd.read_csv)\n",
    "import re"
   ]
  },
  {
   "cell_type": "code",
   "execution_count": 3,
   "id": "47b7aa63",
   "metadata": {
    "execution": {
     "iopub.execute_input": "2024-11-28T01:11:45.278219Z",
     "iopub.status.busy": "2024-11-28T01:11:45.277707Z",
     "iopub.status.idle": "2024-11-28T01:11:45.315907Z",
     "shell.execute_reply": "2024-11-28T01:11:45.314769Z"
    },
    "papermill": {
     "duration": 0.044602,
     "end_time": "2024-11-28T01:11:45.318175",
     "exception": false,
     "start_time": "2024-11-28T01:11:45.273573",
     "status": "completed"
    },
    "tags": []
   },
   "outputs": [
    {
     "name": "stdout",
     "output_type": "stream",
     "text": [
      "There are 1000 rows and 6 columns\n",
      "Index(['0', '1467810369', 'Mon Apr 06 22:19:45 PDT 2009', 'NO_QUERY',\n",
      "       '_TheSpecialOne_',\n",
      "       '@switchfoot http://twitpic.com/2y1zl - Awww, that's a bummer.  You shoulda got David Carr of Third Day to do it. ;D'],\n",
      "      dtype='object')\n"
     ]
    }
   ],
   "source": [
    "nRowsRead = 1000 # specify 'None' if want to read whole file\n",
    "# training.1600000.processed.noemoticon.csv may have more rows in reality, but we are only loading/previewing the first 1000 rows\n",
    "df1 = pd.read_csv('/kaggle/input/sentiment140/training.1600000.processed.noemoticon.csv', delimiter=',', nrows = nRowsRead)\n",
    "df1.dataframeName = 'training.1600000.processed.noemoticon.csv'\n",
    "\n",
    "\n",
    "nRow, nCol = df1.shape\n",
    "print(f'There are {nRow} rows and {nCol} columns')\n",
    "print(df1.columns)\n",
    "df2 = df1.copy()\n",
    "new_headers = ['a', 'b', 'c','d','e','f']\n",
    "df2.columns = new_headers"
   ]
  },
  {
   "cell_type": "code",
   "execution_count": 4,
   "id": "25d21421",
   "metadata": {
    "execution": {
     "iopub.execute_input": "2024-11-28T01:11:45.327279Z",
     "iopub.status.busy": "2024-11-28T01:11:45.326362Z",
     "iopub.status.idle": "2024-11-28T01:11:45.342641Z",
     "shell.execute_reply": "2024-11-28T01:11:45.341627Z"
    },
    "papermill": {
     "duration": 0.023321,
     "end_time": "2024-11-28T01:11:45.345204",
     "exception": false,
     "start_time": "2024-11-28T01:11:45.321883",
     "status": "completed"
    },
    "tags": []
   },
   "outputs": [
    {
     "data": {
      "text/html": [
       "<div>\n",
       "<style scoped>\n",
       "    .dataframe tbody tr th:only-of-type {\n",
       "        vertical-align: middle;\n",
       "    }\n",
       "\n",
       "    .dataframe tbody tr th {\n",
       "        vertical-align: top;\n",
       "    }\n",
       "\n",
       "    .dataframe thead th {\n",
       "        text-align: right;\n",
       "    }\n",
       "</style>\n",
       "<table border=\"1\" class=\"dataframe\">\n",
       "  <thead>\n",
       "    <tr style=\"text-align: right;\">\n",
       "      <th></th>\n",
       "      <th>a</th>\n",
       "      <th>b</th>\n",
       "      <th>c</th>\n",
       "      <th>d</th>\n",
       "      <th>e</th>\n",
       "      <th>f</th>\n",
       "    </tr>\n",
       "  </thead>\n",
       "  <tbody>\n",
       "    <tr>\n",
       "      <th>0</th>\n",
       "      <td>0</td>\n",
       "      <td>1467810672</td>\n",
       "      <td>Mon Apr 06 22:19:49 PDT 2009</td>\n",
       "      <td>NO_QUERY</td>\n",
       "      <td>scotthamilton</td>\n",
       "      <td>is upset that he can't update his Facebook by ...</td>\n",
       "    </tr>\n",
       "  </tbody>\n",
       "</table>\n",
       "</div>"
      ],
      "text/plain": [
       "   a           b                             c         d              e  \\\n",
       "0  0  1467810672  Mon Apr 06 22:19:49 PDT 2009  NO_QUERY  scotthamilton   \n",
       "\n",
       "                                                   f  \n",
       "0  is upset that he can't update his Facebook by ...  "
      ]
     },
     "execution_count": 4,
     "metadata": {},
     "output_type": "execute_result"
    }
   ],
   "source": [
    "df2.head(1)"
   ]
  },
  {
   "cell_type": "code",
   "execution_count": 5,
   "id": "0775ca60",
   "metadata": {
    "execution": {
     "iopub.execute_input": "2024-11-28T01:11:45.353467Z",
     "iopub.status.busy": "2024-11-28T01:11:45.353121Z",
     "iopub.status.idle": "2024-11-28T01:11:45.358535Z",
     "shell.execute_reply": "2024-11-28T01:11:45.357479Z"
    },
    "papermill": {
     "duration": 0.011995,
     "end_time": "2024-11-28T01:11:45.360606",
     "exception": false,
     "start_time": "2024-11-28T01:11:45.348611",
     "status": "completed"
    },
    "tags": []
   },
   "outputs": [],
   "source": [
    "tweets = df2['f'].tolist()"
   ]
  },
  {
   "cell_type": "code",
   "execution_count": 6,
   "id": "e33625c2",
   "metadata": {
    "execution": {
     "iopub.execute_input": "2024-11-28T01:11:45.369140Z",
     "iopub.status.busy": "2024-11-28T01:11:45.368781Z",
     "iopub.status.idle": "2024-11-28T01:11:45.383526Z",
     "shell.execute_reply": "2024-11-28T01:11:45.382484Z"
    },
    "papermill": {
     "duration": 0.021566,
     "end_time": "2024-11-28T01:11:45.385734",
     "exception": false,
     "start_time": "2024-11-28T01:11:45.364168",
     "status": "completed"
    },
    "tags": []
   },
   "outputs": [],
   "source": [
    "corpus = []\n",
    "for tweet in tweets:\n",
    "    tweet = re.sub(\"[^a-zA-Z]\", \" \", tweet)  # Keep only alphabets\n",
    "    tweet = tweet.lower()  # Convert to lowercase\n",
    "    tweet = tweet.split()  # Split tweet into words\n",
    "    corpus.append(tweet)  # Append the processed tweet"
   ]
  },
  {
   "cell_type": "code",
   "execution_count": 7,
   "id": "627b89a4",
   "metadata": {
    "execution": {
     "iopub.execute_input": "2024-11-28T01:11:45.394279Z",
     "iopub.status.busy": "2024-11-28T01:11:45.393258Z",
     "iopub.status.idle": "2024-11-28T01:11:54.367637Z",
     "shell.execute_reply": "2024-11-28T01:11:54.366660Z"
    },
    "papermill": {
     "duration": 8.980885,
     "end_time": "2024-11-28T01:11:54.369958",
     "exception": false,
     "start_time": "2024-11-28T01:11:45.389073",
     "status": "completed"
    },
    "tags": []
   },
   "outputs": [],
   "source": [
    "from gensim.models import Word2Vec\n",
    "import nltk\n",
    "from nltk.corpus import stopwords\n",
    "model = Word2Vec(corpus, vector_size=100, window=5, min_count=1, workers=4)"
   ]
  },
  {
   "cell_type": "code",
   "execution_count": 8,
   "id": "22cc1db3",
   "metadata": {
    "execution": {
     "iopub.execute_input": "2024-11-28T01:11:54.378445Z",
     "iopub.status.busy": "2024-11-28T01:11:54.377550Z",
     "iopub.status.idle": "2024-11-28T01:11:54.392610Z",
     "shell.execute_reply": "2024-11-28T01:11:54.389753Z"
    },
    "papermill": {
     "duration": 0.022816,
     "end_time": "2024-11-28T01:11:54.396152",
     "exception": false,
     "start_time": "2024-11-28T01:11:54.373336",
     "status": "completed"
    },
    "tags": []
   },
   "outputs": [
    {
     "name": "stdout",
     "output_type": "stream",
     "text": [
      "i: 0.9991599321365356\n",
      "it: 0.9988428354263306\n",
      "is: 0.9988222122192383\n",
      "for: 0.9988206028938293\n",
      "the: 0.9988000988960266\n"
     ]
    }
   ],
   "source": [
    "try:\n",
    "  similar_words = model.wv.most_similar('you', topn=5)\n",
    "  for word, score in similar_words:\n",
    "    print(f\"{word}: {score}\")\n",
    "except KeyError:\n",
    "  print(\"Word not found in the vocabulary.\")"
   ]
  },
  {
   "cell_type": "code",
   "execution_count": 9,
   "id": "a8090fc9",
   "metadata": {
    "execution": {
     "iopub.execute_input": "2024-11-28T01:11:54.416009Z",
     "iopub.status.busy": "2024-11-28T01:11:54.415342Z",
     "iopub.status.idle": "2024-11-28T01:11:54.424743Z",
     "shell.execute_reply": "2024-11-28T01:11:54.422477Z"
    },
    "papermill": {
     "duration": 0.024002,
     "end_time": "2024-11-28T01:11:54.428828",
     "exception": false,
     "start_time": "2024-11-28T01:11:54.404826",
     "status": "completed"
    },
    "tags": []
   },
   "outputs": [],
   "source": [
    "def plotPerColumnDistribution(df, nGraphShown, nGraphPerRow):\n",
    "    nunique = df.nunique()\n",
    "    print(nunique)\n",
    "    df = df[[col for col in df if nunique[col] > 1 and nunique[col] < 50]]\n",
    "    #print(df)"
   ]
  },
  {
   "cell_type": "code",
   "execution_count": 10,
   "id": "8977b335",
   "metadata": {
    "execution": {
     "iopub.execute_input": "2024-11-28T01:11:54.448614Z",
     "iopub.status.busy": "2024-11-28T01:11:54.447996Z",
     "iopub.status.idle": "2024-11-28T01:11:54.475279Z",
     "shell.execute_reply": "2024-11-28T01:11:54.472842Z"
    },
    "papermill": {
     "duration": 0.041854,
     "end_time": "2024-11-28T01:11:54.479393",
     "exception": false,
     "start_time": "2024-11-28T01:11:54.437539",
     "status": "completed"
    },
    "tags": []
   },
   "outputs": [
    {
     "name": "stdout",
     "output_type": "stream",
     "text": [
      "0                                                                                                                         1\n",
      "1467810369                                                                                                             1000\n",
      "Mon Apr 06 22:19:45 PDT 2009                                                                                            873\n",
      "NO_QUERY                                                                                                                  1\n",
      "_TheSpecialOne_                                                                                                         962\n",
      "@switchfoot http://twitpic.com/2y1zl - Awww, that's a bummer.  You shoulda got David Carr of Third Day to do it. ;D    1000\n",
      "dtype: int64\n"
     ]
    }
   ],
   "source": [
    "plotPerColumnDistribution(df1, 10, 5)"
   ]
  },
  {
   "cell_type": "code",
   "execution_count": null,
   "id": "0626ab91",
   "metadata": {
    "papermill": {
     "duration": 0.008547,
     "end_time": "2024-11-28T01:11:54.498007",
     "exception": false,
     "start_time": "2024-11-28T01:11:54.489460",
     "status": "completed"
    },
    "tags": []
   },
   "outputs": [],
   "source": []
  }
 ],
 "metadata": {
  "kaggle": {
   "accelerator": "none",
   "dataSources": [
    {
     "datasetId": 2477,
     "sourceId": 4140,
     "sourceType": "datasetVersion"
    }
   ],
   "dockerImageVersionId": 30786,
   "isGpuEnabled": false,
   "isInternetEnabled": true,
   "language": "python",
   "sourceType": "notebook"
  },
  "kernelspec": {
   "display_name": "Python 3",
   "language": "python",
   "name": "python3"
  },
  "language_info": {
   "codemirror_mode": {
    "name": "ipython",
    "version": 3
   },
   "file_extension": ".py",
   "mimetype": "text/x-python",
   "name": "python",
   "nbconvert_exporter": "python",
   "pygments_lexer": "ipython3",
   "version": "3.10.14"
  },
  "papermill": {
   "default_parameters": {},
   "duration": 15.209267,
   "end_time": "2024-11-28T01:11:55.428459",
   "environment_variables": {},
   "exception": null,
   "input_path": "__notebook__.ipynb",
   "output_path": "__notebook__.ipynb",
   "parameters": {},
   "start_time": "2024-11-28T01:11:40.219192",
   "version": "2.6.0"
  }
 },
 "nbformat": 4,
 "nbformat_minor": 5
}
